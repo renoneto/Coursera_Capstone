{
 "cells": [
  {
   "cell_type": "code",
   "execution_count": 1,
   "metadata": {},
   "outputs": [
    {
     "data": {
      "text/plain": [
       "(103, 3)"
      ]
     },
     "execution_count": 1,
     "metadata": {},
     "output_type": "execute_result"
    }
   ],
   "source": [
    "#Import libraries\n",
    "import pandas as pd\n",
    "import numpy as np\n",
    "import requests \n",
    "from bs4 import BeautifulSoup \n",
    "\n",
    "#Wikipedia's URL, connect to the page and get data\n",
    "URL = \"https://en.wikipedia.org/wiki/List_of_postal_codes_of_Canada:_M\"\n",
    "r = requests.get(URL) \n",
    "\n",
    "#Read content\n",
    "soup = BeautifulSoup(r.content, 'html5lib') \n",
    "\n",
    "#Find table with information\n",
    "table = soup.find('table', attrs = {'class':'wikitable sortable'}) \n",
    "\n",
    "#Create an empty list to put data\n",
    "my_list = []\n",
    "#Go through table rows and extract text from columns and add into my_list\n",
    "for idx, row in enumerate(table.findAll('td')):\n",
    "    x  = row.text\n",
    "    x = x.replace('\\n','')\n",
    "    my_list.append(x)\n",
    "\n",
    "#Create chunks fuction to split list into different lists\n",
    "def chunks(l, n):\n",
    "    for i in range(0, len(l), n):\n",
    "        yield l[i:i + n]\n",
    "\n",
    "#Headers of data frame\n",
    "header = ['Postcode','Borough', 'Neighbourhood']\n",
    "#Data of dataframe\n",
    "data = list(chunks(my_list,3))\n",
    "\n",
    "#Finally, create my dataframe with table data\n",
    "df = pd.DataFrame(data,columns=header)\n",
    "\n",
    "#Remove Not assigned cells\n",
    "df = df[df['Borough'] != 'Not assigned']\n",
    "#Group cells by Postcode and Borough and group neighbourhoods using ', ' as delimiter\n",
    "df = df.groupby(['Postcode','Borough'])['Neighbourhood'].apply(lambda x: ', '.join(x.dropna().unique())).reset_index()\n",
    "#Find not assigned neighourhoods and if that's the case use the Borough name, otherwise keep the neighbourhood value\n",
    "df['Neighbourhood'] = np.where(df['Neighbourhood'] == 'Not assigned', df['Borough'],df['Neighbourhood'])\n",
    "\n",
    "#Shape\n",
    "df.shape"
   ]
  }
 ],
 "metadata": {
  "kernelspec": {
   "display_name": "Python 3",
   "language": "python",
   "name": "python3"
  },
  "language_info": {
   "codemirror_mode": {
    "name": "ipython",
    "version": 3
   },
   "file_extension": ".py",
   "mimetype": "text/x-python",
   "name": "python",
   "nbconvert_exporter": "python",
   "pygments_lexer": "ipython3",
   "version": "3.6.5"
  }
 },
 "nbformat": 4,
 "nbformat_minor": 2
}
